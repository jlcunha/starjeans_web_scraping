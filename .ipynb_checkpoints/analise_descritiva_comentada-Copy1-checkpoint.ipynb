{
 "cells": [
  {
   "cell_type": "markdown",
   "id": "82694953",
   "metadata": {
    "heading_collapsed": true
   },
   "source": [
    "# Analise descritiva dos dados."
   ]
  },
  {
   "cell_type": "markdown",
   "id": "197a3b8b",
   "metadata": {},
   "source": [
    "# 0.0. Imports"
   ]
  },
  {
   "cell_type": "code",
   "execution_count": 1,
   "id": "78ce8410",
   "metadata": {
    "ExecuteTime": {
     "end_time": "2022-06-16T06:41:21.982220Z",
     "start_time": "2022-06-16T06:41:20.608809Z"
    }
   },
   "outputs": [],
   "source": [
    "import pandas as pd\n",
    "import numpy as np\n",
    "from sqlalchemy import create_engine\n",
    "import seaborn as sns\n",
    "from IPython.core.display import HTML\n"
   ]
  },
  {
   "cell_type": "code",
   "execution_count": 2,
   "id": "59d96ca9",
   "metadata": {
    "ExecuteTime": {
     "end_time": "2022-06-16T06:41:22.011308Z",
     "start_time": "2022-06-16T06:41:21.984512Z"
    }
   },
   "outputs": [
    {
     "name": "stdout",
     "output_type": "stream",
     "text": [
      "%pylab is deprecated, use %matplotlib inline and import the required libraries.\n",
      "Populating the interactive namespace from numpy and matplotlib\n"
     ]
    },
    {
     "data": {
      "text/html": [
       "<style>.container { width:100% !important; }</style>"
      ],
      "text/plain": [
       "<IPython.core.display.HTML object>"
      ]
     },
     "metadata": {},
     "output_type": "display_data"
    }
   ],
   "source": [
    "def jupyter_settings():\n",
    "    %matplotlib inline\n",
    "    %pylab inline\n",
    "    plt.style.use( 'bmh' )\n",
    "    plt.rcParams['figure.figsize'] = [25, 12]\n",
    "    plt.rcParams['font.size'] = 24\n",
    "    display( HTML( '<style>.container { width:100% !important; }</style>') )\n",
    "    pd.options.display.max_columns = None\n",
    "    pd.options.display.max_rows = None\n",
    "    pd.set_option( 'display.expand_frame_repr', False )\n",
    "    sns.set()\n",
    "jupyter_settings() "
   ]
  },
  {
   "cell_type": "markdown",
   "id": "42f1617c",
   "metadata": {},
   "source": [
    "## 0.1. Data collection"
   ]
  },
  {
   "cell_type": "code",
   "execution_count": 3,
   "id": "42bb1260",
   "metadata": {
    "ExecuteTime": {
     "end_time": "2022-06-16T06:41:22.086047Z",
     "start_time": "2022-06-16T06:41:22.014008Z"
    }
   },
   "outputs": [],
   "source": [
    "path = '/home/mars/repos/StarJeans/projeto_final/'\n",
    "database_name = 'database_hm01.sqlite'\n",
    "conn = create_engine( 'sqlite:///' + path + database_name, echo=False )"
   ]
  },
  {
   "cell_type": "code",
   "execution_count": 4,
   "id": "71625543",
   "metadata": {
    "ExecuteTime": {
     "end_time": "2022-06-16T06:41:22.091130Z",
     "start_time": "2022-06-16T06:41:22.088186Z"
    }
   },
   "outputs": [],
   "source": [
    "query = \"\"\"\n",
    "    SELECT * FROM vitrine\n",
    "\"\"\""
   ]
  },
  {
   "cell_type": "code",
   "execution_count": 5,
   "id": "0832853e",
   "metadata": {
    "ExecuteTime": {
     "end_time": "2022-06-16T06:41:22.103435Z",
     "start_time": "2022-06-16T06:41:22.093183Z"
    }
   },
   "outputs": [],
   "source": [
    "df_raw = pd.read_sql( query, con=conn )"
   ]
  },
  {
   "cell_type": "markdown",
   "id": "84c93831",
   "metadata": {},
   "source": [
    "# 1.0. Descricao dos dados"
   ]
  },
  {
   "cell_type": "code",
   "execution_count": 6,
   "id": "66020a58",
   "metadata": {
    "ExecuteTime": {
     "end_time": "2022-06-16T06:41:22.114764Z",
     "start_time": "2022-06-16T06:41:22.108513Z"
    }
   },
   "outputs": [],
   "source": [
    "df01 = df_raw.copy()"
   ]
  },
  {
   "cell_type": "markdown",
   "id": "7f0a53f7",
   "metadata": {},
   "source": [
    "## 1.1. Dimensao dos dados"
   ]
  },
  {
   "cell_type": "code",
   "execution_count": 7,
   "id": "3b5ad53d",
   "metadata": {
    "ExecuteTime": {
     "end_time": "2022-06-16T06:41:22.120499Z",
     "start_time": "2022-06-16T06:41:22.116823Z"
    }
   },
   "outputs": [
    {
     "name": "stdout",
     "output_type": "stream",
     "text": [
      "Number of Rows: 606\n",
      "Number of Cols: 13\n"
     ]
    }
   ],
   "source": [
    "print( 'Number of Rows: {}'.format( df01.shape[0] ) )\n",
    "print( 'Number of Cols: {}'.format( df01.shape[1] ) )"
   ]
  },
  {
   "cell_type": "markdown",
   "id": "5ce270e7",
   "metadata": {},
   "source": [
    "## 1.2. Tipos dos dados"
   ]
  },
  {
   "cell_type": "code",
   "execution_count": 8,
   "id": "200f7cff",
   "metadata": {
    "ExecuteTime": {
     "end_time": "2022-06-16T06:41:22.128377Z",
     "start_time": "2022-06-16T06:41:22.122706Z"
    },
    "scrolled": true
   },
   "outputs": [
    {
     "data": {
      "text/plain": [
       "product_id          object\n",
       "style_id            object\n",
       "color_id            object\n",
       "product_name        object\n",
       "color_name          object\n",
       "fit                 object\n",
       "product_price      float64\n",
       "size_number         object\n",
       "size_leg            object\n",
       "cotton             float64\n",
       "polyester          float64\n",
       "spandex            float64\n",
       "scrapy_datetime     object\n",
       "dtype: object"
      ]
     },
     "execution_count": 8,
     "metadata": {},
     "output_type": "execute_result"
    }
   ],
   "source": [
    "df01.dtypes"
   ]
  },
  {
   "cell_type": "code",
   "execution_count": 9,
   "id": "08a44b1f",
   "metadata": {
    "ExecuteTime": {
     "end_time": "2022-06-16T06:41:22.138040Z",
     "start_time": "2022-06-16T06:41:22.132159Z"
    }
   },
   "outputs": [],
   "source": [
    "# convert object to datetime\n",
    "df01['scrapy_datetime'] = pd.to_datetime( df01['scrapy_datetime'] )"
   ]
  },
  {
   "cell_type": "markdown",
   "id": "28fb4bce",
   "metadata": {},
   "source": [
    "## 1.3. Identificacao dos dados faltantes"
   ]
  },
  {
   "cell_type": "code",
   "execution_count": 10,
   "id": "5264e4da",
   "metadata": {
    "ExecuteTime": {
     "end_time": "2022-06-16T06:41:22.161035Z",
     "start_time": "2022-06-16T06:41:22.140361Z"
    }
   },
   "outputs": [
    {
     "data": {
      "text/html": [
       "<div>\n",
       "<style scoped>\n",
       "    .dataframe tbody tr th:only-of-type {\n",
       "        vertical-align: middle;\n",
       "    }\n",
       "\n",
       "    .dataframe tbody tr th {\n",
       "        vertical-align: top;\n",
       "    }\n",
       "\n",
       "    .dataframe thead th {\n",
       "        text-align: right;\n",
       "    }\n",
       "</style>\n",
       "<table border=\"1\" class=\"dataframe\">\n",
       "  <thead>\n",
       "    <tr style=\"text-align: right;\">\n",
       "      <th></th>\n",
       "      <th>product_id</th>\n",
       "      <th>style_id</th>\n",
       "      <th>color_id</th>\n",
       "      <th>product_name</th>\n",
       "      <th>color_name</th>\n",
       "      <th>fit</th>\n",
       "      <th>product_price</th>\n",
       "      <th>size_number</th>\n",
       "      <th>size_leg</th>\n",
       "      <th>cotton</th>\n",
       "      <th>polyester</th>\n",
       "      <th>spandex</th>\n",
       "      <th>scrapy_datetime</th>\n",
       "    </tr>\n",
       "  </thead>\n",
       "  <tbody>\n",
       "    <tr>\n",
       "      <th>0</th>\n",
       "      <td>1024256001</td>\n",
       "      <td>1024256</td>\n",
       "      <td>001</td>\n",
       "      <td>slim_jeans</td>\n",
       "      <td>black</td>\n",
       "      <td>slim_fit</td>\n",
       "      <td>19.99</td>\n",
       "      <td>None</td>\n",
       "      <td>None</td>\n",
       "      <td>0.99</td>\n",
       "      <td>0.65</td>\n",
       "      <td>0.01</td>\n",
       "      <td>2022-04-23 06:04:44</td>\n",
       "    </tr>\n",
       "    <tr>\n",
       "      <th>1</th>\n",
       "      <td>1024256002</td>\n",
       "      <td>1024256</td>\n",
       "      <td>002</td>\n",
       "      <td>slim_jeans</td>\n",
       "      <td>light_denim_blue</td>\n",
       "      <td>slim_fit</td>\n",
       "      <td>19.99</td>\n",
       "      <td>None</td>\n",
       "      <td>None</td>\n",
       "      <td>0.99</td>\n",
       "      <td>0.65</td>\n",
       "      <td>0.01</td>\n",
       "      <td>2022-04-23 06:04:44</td>\n",
       "    </tr>\n",
       "    <tr>\n",
       "      <th>2</th>\n",
       "      <td>1024256003</td>\n",
       "      <td>1024256</td>\n",
       "      <td>003</td>\n",
       "      <td>slim_jeans</td>\n",
       "      <td>light_denim_blue</td>\n",
       "      <td>slim_fit</td>\n",
       "      <td>19.99</td>\n",
       "      <td>None</td>\n",
       "      <td>None</td>\n",
       "      <td>0.99</td>\n",
       "      <td>0.65</td>\n",
       "      <td>0.01</td>\n",
       "      <td>2022-04-23 06:04:44</td>\n",
       "    </tr>\n",
       "    <tr>\n",
       "      <th>3</th>\n",
       "      <td>1024256004</td>\n",
       "      <td>1024256</td>\n",
       "      <td>004</td>\n",
       "      <td>slim_jeans</td>\n",
       "      <td>denim_blue</td>\n",
       "      <td>slim_fit</td>\n",
       "      <td>19.99</td>\n",
       "      <td>None</td>\n",
       "      <td>None</td>\n",
       "      <td>0.99</td>\n",
       "      <td>0.65</td>\n",
       "      <td>0.01</td>\n",
       "      <td>2022-04-23 06:04:44</td>\n",
       "    </tr>\n",
       "    <tr>\n",
       "      <th>4</th>\n",
       "      <td>1024256005</td>\n",
       "      <td>1024256</td>\n",
       "      <td>005</td>\n",
       "      <td>slim_jeans</td>\n",
       "      <td>dark_blue</td>\n",
       "      <td>slim_fit</td>\n",
       "      <td>19.99</td>\n",
       "      <td>None</td>\n",
       "      <td>None</td>\n",
       "      <td>0.99</td>\n",
       "      <td>0.65</td>\n",
       "      <td>0.01</td>\n",
       "      <td>2022-04-23 06:04:44</td>\n",
       "    </tr>\n",
       "    <tr>\n",
       "      <th>5</th>\n",
       "      <td>1024256006</td>\n",
       "      <td>1024256</td>\n",
       "      <td>006</td>\n",
       "      <td>slim_jeans</td>\n",
       "      <td>dark_denim_blue</td>\n",
       "      <td>slim_fit</td>\n",
       "      <td>19.99</td>\n",
       "      <td>None</td>\n",
       "      <td>None</td>\n",
       "      <td>1.00</td>\n",
       "      <td>0.00</td>\n",
       "      <td>0.01</td>\n",
       "      <td>2022-04-23 06:04:44</td>\n",
       "    </tr>\n",
       "    <tr>\n",
       "      <th>6</th>\n",
       "      <td>1024256007</td>\n",
       "      <td>1024256</td>\n",
       "      <td>007</td>\n",
       "      <td>slim_jeans</td>\n",
       "      <td>dark_gray</td>\n",
       "      <td>slim_fit</td>\n",
       "      <td>19.99</td>\n",
       "      <td>None</td>\n",
       "      <td>None</td>\n",
       "      <td>0.99</td>\n",
       "      <td>0.65</td>\n",
       "      <td>0.01</td>\n",
       "      <td>2022-04-23 06:04:44</td>\n",
       "    </tr>\n",
       "    <tr>\n",
       "      <th>7</th>\n",
       "      <td>1024256008</td>\n",
       "      <td>1024256</td>\n",
       "      <td>008</td>\n",
       "      <td>slim_jeans</td>\n",
       "      <td>white</td>\n",
       "      <td>slim_fit</td>\n",
       "      <td>19.99</td>\n",
       "      <td>None</td>\n",
       "      <td>None</td>\n",
       "      <td>1.00</td>\n",
       "      <td>0.00</td>\n",
       "      <td>0.01</td>\n",
       "      <td>2022-04-23 06:04:44</td>\n",
       "    </tr>\n",
       "    <tr>\n",
       "      <th>8</th>\n",
       "      <td>0938875002</td>\n",
       "      <td>0938875</td>\n",
       "      <td>002</td>\n",
       "      <td>slim_tapered_jeans</td>\n",
       "      <td>white</td>\n",
       "      <td>slim_fit</td>\n",
       "      <td>39.99</td>\n",
       "      <td>None</td>\n",
       "      <td>None</td>\n",
       "      <td>1.00</td>\n",
       "      <td>0.00</td>\n",
       "      <td>0.01</td>\n",
       "      <td>2022-04-23 06:04:44</td>\n",
       "    </tr>\n",
       "    <tr>\n",
       "      <th>9</th>\n",
       "      <td>0938875001</td>\n",
       "      <td>0938875</td>\n",
       "      <td>001</td>\n",
       "      <td>slim_tapered_jeans</td>\n",
       "      <td>light_denim_blue</td>\n",
       "      <td>slim_fit</td>\n",
       "      <td>29.99</td>\n",
       "      <td>None</td>\n",
       "      <td>None</td>\n",
       "      <td>1.00</td>\n",
       "      <td>0.00</td>\n",
       "      <td>0.01</td>\n",
       "      <td>2022-04-23 06:04:44</td>\n",
       "    </tr>\n",
       "  </tbody>\n",
       "</table>\n",
       "</div>"
      ],
      "text/plain": [
       "   product_id style_id color_id        product_name        color_name       fit  product_price size_number size_leg  cotton  polyester  spandex     scrapy_datetime\n",
       "0  1024256001  1024256      001          slim_jeans             black  slim_fit          19.99        None     None    0.99       0.65     0.01 2022-04-23 06:04:44\n",
       "1  1024256002  1024256      002          slim_jeans  light_denim_blue  slim_fit          19.99        None     None    0.99       0.65     0.01 2022-04-23 06:04:44\n",
       "2  1024256003  1024256      003          slim_jeans  light_denim_blue  slim_fit          19.99        None     None    0.99       0.65     0.01 2022-04-23 06:04:44\n",
       "3  1024256004  1024256      004          slim_jeans        denim_blue  slim_fit          19.99        None     None    0.99       0.65     0.01 2022-04-23 06:04:44\n",
       "4  1024256005  1024256      005          slim_jeans         dark_blue  slim_fit          19.99        None     None    0.99       0.65     0.01 2022-04-23 06:04:44\n",
       "5  1024256006  1024256      006          slim_jeans   dark_denim_blue  slim_fit          19.99        None     None    1.00       0.00     0.01 2022-04-23 06:04:44\n",
       "6  1024256007  1024256      007          slim_jeans         dark_gray  slim_fit          19.99        None     None    0.99       0.65     0.01 2022-04-23 06:04:44\n",
       "7  1024256008  1024256      008          slim_jeans             white  slim_fit          19.99        None     None    1.00       0.00     0.01 2022-04-23 06:04:44\n",
       "8  0938875002  0938875      002  slim_tapered_jeans             white  slim_fit          39.99        None     None    1.00       0.00     0.01 2022-04-23 06:04:44\n",
       "9  0938875001  0938875      001  slim_tapered_jeans  light_denim_blue  slim_fit          29.99        None     None    1.00       0.00     0.01 2022-04-23 06:04:44"
      ]
     },
     "execution_count": 10,
     "metadata": {},
     "output_type": "execute_result"
    }
   ],
   "source": [
    "df01.head(10)"
   ]
  },
  {
   "cell_type": "code",
   "execution_count": 11,
   "id": "6482b771",
   "metadata": {
    "ExecuteTime": {
     "end_time": "2022-06-16T06:41:22.171629Z",
     "start_time": "2022-06-16T06:41:22.163377Z"
    },
    "tags": []
   },
   "outputs": [
    {
     "data": {
      "text/plain": [
       "product_id           0\n",
       "style_id             0\n",
       "color_id             0\n",
       "product_name         0\n",
       "color_name           0\n",
       "fit                  3\n",
       "product_price        0\n",
       "size_number        492\n",
       "size_leg           492\n",
       "cotton               0\n",
       "polyester            0\n",
       "spandex              0\n",
       "scrapy_datetime      0\n",
       "dtype: int64"
      ]
     },
     "execution_count": 11,
     "metadata": {},
     "output_type": "execute_result"
    }
   ],
   "source": [
    "df01.isna().sum()"
   ]
  },
  {
   "cell_type": "code",
   "execution_count": 12,
   "id": "c85bbc04",
   "metadata": {
    "ExecuteTime": {
     "end_time": "2022-06-16T06:41:22.187529Z",
     "start_time": "2022-06-16T06:41:22.174592Z"
    }
   },
   "outputs": [
    {
     "name": "stdout",
     "output_type": "stream",
     "text": [
      "<class 'pandas.core.frame.DataFrame'>\n",
      "RangeIndex: 606 entries, 0 to 605\n",
      "Data columns (total 13 columns):\n",
      " #   Column           Non-Null Count  Dtype         \n",
      "---  ------           --------------  -----         \n",
      " 0   product_id       606 non-null    object        \n",
      " 1   style_id         606 non-null    object        \n",
      " 2   color_id         606 non-null    object        \n",
      " 3   product_name     606 non-null    object        \n",
      " 4   color_name       606 non-null    object        \n",
      " 5   fit              603 non-null    object        \n",
      " 6   product_price    606 non-null    float64       \n",
      " 7   size_number      114 non-null    object        \n",
      " 8   size_leg         114 non-null    object        \n",
      " 9   cotton           606 non-null    float64       \n",
      " 10  polyester        606 non-null    float64       \n",
      " 11  spandex          606 non-null    float64       \n",
      " 12  scrapy_datetime  606 non-null    datetime64[ns]\n",
      "dtypes: datetime64[ns](1), float64(4), object(8)\n",
      "memory usage: 61.7+ KB\n"
     ]
    }
   ],
   "source": [
    "df01.info()"
   ]
  },
  {
   "cell_type": "code",
   "execution_count": 13,
   "id": "53908e1b",
   "metadata": {
    "ExecuteTime": {
     "end_time": "2022-06-16T06:41:22.198334Z",
     "start_time": "2022-06-16T06:41:22.189838Z"
    }
   },
   "outputs": [
    {
     "data": {
      "text/plain": [
       "product_id         0.000000\n",
       "style_id           0.000000\n",
       "color_id           0.000000\n",
       "product_name       0.000000\n",
       "color_name         0.000000\n",
       "fit                0.004950\n",
       "product_price      0.000000\n",
       "size_number        0.811881\n",
       "size_leg           0.811881\n",
       "cotton             0.000000\n",
       "polyester          0.000000\n",
       "spandex            0.000000\n",
       "scrapy_datetime    0.000000\n",
       "dtype: float64"
      ]
     },
     "execution_count": 13,
     "metadata": {},
     "output_type": "execute_result"
    }
   ],
   "source": [
    "df01.isna().sum() / df01.shape[0]"
   ]
  },
  {
   "cell_type": "markdown",
   "id": "28c1bab3",
   "metadata": {},
   "source": [
    "## 1.4. Identificacao dos dados faltantes"
   ]
  },
  {
   "cell_type": "code",
   "execution_count": 14,
   "id": "6183d006",
   "metadata": {
    "ExecuteTime": {
     "end_time": "2022-06-16T06:41:22.208894Z",
     "start_time": "2022-06-16T06:41:22.200993Z"
    }
   },
   "outputs": [],
   "source": [
    "df01 = df01.drop( columns = ['size_number', 'size_leg'] ).dropna()"
   ]
  },
  {
   "cell_type": "markdown",
   "id": "992896dd",
   "metadata": {},
   "source": [
    "## 1.5. Descricao dos dados"
   ]
  },
  {
   "cell_type": "code",
   "execution_count": 15,
   "id": "8c6b6047",
   "metadata": {
    "ExecuteTime": {
     "end_time": "2022-06-16T06:41:22.214922Z",
     "start_time": "2022-06-16T06:41:22.211015Z"
    }
   },
   "outputs": [],
   "source": [
    "num_attributes = df01.select_dtypes( include=['int64', 'float64'] )\n",
    "cat_attributes = df01.select_dtypes( exclude=['int64', 'float64', 'datetime64[ns]'] )"
   ]
  },
  {
   "cell_type": "markdown",
   "id": "61a82e6a",
   "metadata": {},
   "source": [
    "### 1.5.1. Numeric Data"
   ]
  },
  {
   "cell_type": "code",
   "execution_count": 16,
   "id": "dba8ac42",
   "metadata": {
    "ExecuteTime": {
     "end_time": "2022-06-16T06:41:22.255463Z",
     "start_time": "2022-06-16T06:41:22.217652Z"
    }
   },
   "outputs": [
    {
     "data": {
      "text/html": [
       "<div>\n",
       "<style scoped>\n",
       "    .dataframe tbody tr th:only-of-type {\n",
       "        vertical-align: middle;\n",
       "    }\n",
       "\n",
       "    .dataframe tbody tr th {\n",
       "        vertical-align: top;\n",
       "    }\n",
       "\n",
       "    .dataframe thead th {\n",
       "        text-align: right;\n",
       "    }\n",
       "</style>\n",
       "<table border=\"1\" class=\"dataframe\">\n",
       "  <thead>\n",
       "    <tr style=\"text-align: right;\">\n",
       "      <th></th>\n",
       "      <th>attributes</th>\n",
       "      <th>min</th>\n",
       "      <th>max</th>\n",
       "      <th>range</th>\n",
       "      <th>mean</th>\n",
       "      <th>median</th>\n",
       "      <th>std</th>\n",
       "      <th>skew</th>\n",
       "      <th>kurtosis</th>\n",
       "    </tr>\n",
       "  </thead>\n",
       "  <tbody>\n",
       "    <tr>\n",
       "      <th>0</th>\n",
       "      <td>product_price</td>\n",
       "      <td>7.99</td>\n",
       "      <td>49.99</td>\n",
       "      <td>42.00</td>\n",
       "      <td>27.208905</td>\n",
       "      <td>27.99</td>\n",
       "      <td>9.310660</td>\n",
       "      <td>0.449952</td>\n",
       "      <td>-0.387062</td>\n",
       "    </tr>\n",
       "    <tr>\n",
       "      <th>1</th>\n",
       "      <td>cotton</td>\n",
       "      <td>0.72</td>\n",
       "      <td>1.00</td>\n",
       "      <td>0.28</td>\n",
       "      <td>0.970945</td>\n",
       "      <td>0.99</td>\n",
       "      <td>0.055122</td>\n",
       "      <td>-2.652726</td>\n",
       "      <td>6.624648</td>\n",
       "    </tr>\n",
       "    <tr>\n",
       "      <th>2</th>\n",
       "      <td>polyester</td>\n",
       "      <td>0.00</td>\n",
       "      <td>1.00</td>\n",
       "      <td>1.00</td>\n",
       "      <td>0.251095</td>\n",
       "      <td>0.00</td>\n",
       "      <td>0.321253</td>\n",
       "      <td>0.684549</td>\n",
       "      <td>-1.273506</td>\n",
       "    </tr>\n",
       "    <tr>\n",
       "      <th>3</th>\n",
       "      <td>spandex</td>\n",
       "      <td>0.00</td>\n",
       "      <td>0.02</td>\n",
       "      <td>0.02</td>\n",
       "      <td>0.010647</td>\n",
       "      <td>0.01</td>\n",
       "      <td>0.007667</td>\n",
       "      <td>-0.110445</td>\n",
       "      <td>-1.293136</td>\n",
       "    </tr>\n",
       "  </tbody>\n",
       "</table>\n",
       "</div>"
      ],
      "text/plain": [
       "      attributes   min    max  range       mean  median       std      skew  kurtosis\n",
       "0  product_price  7.99  49.99  42.00  27.208905   27.99  9.310660  0.449952 -0.387062\n",
       "1         cotton  0.72   1.00   0.28   0.970945    0.99  0.055122 -2.652726  6.624648\n",
       "2      polyester  0.00   1.00   1.00   0.251095    0.00  0.321253  0.684549 -1.273506\n",
       "3        spandex  0.00   0.02   0.02   0.010647    0.01  0.007667 -0.110445 -1.293136"
      ]
     },
     "execution_count": 16,
     "metadata": {},
     "output_type": "execute_result"
    }
   ],
   "source": [
    "# Metricas de tendencia central: Media, Mediana\n",
    "t1 = pd.DataFrame( num_attributes.apply( np.mean ) ).T\n",
    "t2 = pd.DataFrame( num_attributes.apply( np.median ) ).T\n",
    "\n",
    "# Metricas de dispersao: STD, MIN, MAX, RANGE, SKEW\n",
    "d1 = pd.DataFrame( num_attributes.apply( np.std ) ).T\n",
    "d2 = pd.DataFrame( num_attributes.apply( np.min ) ).T\n",
    "d3 = pd.DataFrame( num_attributes.apply( np.max ) ).T\n",
    "d4 = pd.DataFrame( num_attributes.apply( lambda x: x.max() - x.min() ) ).T\n",
    "d5 = pd.DataFrame( num_attributes.apply( lambda x: x.skew() ) ).T\n",
    "d6 = pd.DataFrame( num_attributes.apply( lambda x: x.kurtosis() ) ).T\n",
    "\n",
    "# concat\n",
    "m1 = pd.concat( [d2, d3, d4, t1, t2, d1, d5, d6]).T.reset_index()\n",
    "m1.columns = ['attributes', 'min', 'max', 'range', 'mean', 'median', 'std', 'skew', 'kurtosis']\n",
    "m1"
   ]
  },
  {
   "cell_type": "code",
   "execution_count": 17,
   "id": "932df62c",
   "metadata": {
    "ExecuteTime": {
     "end_time": "2022-06-16T06:41:22.279558Z",
     "start_time": "2022-06-16T06:41:22.257795Z"
    },
    "scrolled": true
   },
   "outputs": [
    {
     "data": {
      "text/html": [
       "<div>\n",
       "<style scoped>\n",
       "    .dataframe tbody tr th:only-of-type {\n",
       "        vertical-align: middle;\n",
       "    }\n",
       "\n",
       "    .dataframe tbody tr th {\n",
       "        vertical-align: top;\n",
       "    }\n",
       "\n",
       "    .dataframe thead th {\n",
       "        text-align: right;\n",
       "    }\n",
       "</style>\n",
       "<table border=\"1\" class=\"dataframe\">\n",
       "  <thead>\n",
       "    <tr style=\"text-align: right;\">\n",
       "      <th></th>\n",
       "      <th>product_price</th>\n",
       "      <th>cotton</th>\n",
       "      <th>polyester</th>\n",
       "      <th>spandex</th>\n",
       "    </tr>\n",
       "  </thead>\n",
       "  <tbody>\n",
       "    <tr>\n",
       "      <th>count</th>\n",
       "      <td>603.000000</td>\n",
       "      <td>603.000000</td>\n",
       "      <td>603.000000</td>\n",
       "      <td>603.000000</td>\n",
       "    </tr>\n",
       "    <tr>\n",
       "      <th>mean</th>\n",
       "      <td>27.208905</td>\n",
       "      <td>0.970945</td>\n",
       "      <td>0.251095</td>\n",
       "      <td>0.010647</td>\n",
       "    </tr>\n",
       "    <tr>\n",
       "      <th>std</th>\n",
       "      <td>9.318390</td>\n",
       "      <td>0.055168</td>\n",
       "      <td>0.321520</td>\n",
       "      <td>0.007674</td>\n",
       "    </tr>\n",
       "    <tr>\n",
       "      <th>min</th>\n",
       "      <td>7.990000</td>\n",
       "      <td>0.720000</td>\n",
       "      <td>0.000000</td>\n",
       "      <td>0.000000</td>\n",
       "    </tr>\n",
       "    <tr>\n",
       "      <th>25%</th>\n",
       "      <td>19.990000</td>\n",
       "      <td>0.980000</td>\n",
       "      <td>0.000000</td>\n",
       "      <td>0.000000</td>\n",
       "    </tr>\n",
       "    <tr>\n",
       "      <th>50%</th>\n",
       "      <td>27.990000</td>\n",
       "      <td>0.990000</td>\n",
       "      <td>0.000000</td>\n",
       "      <td>0.010000</td>\n",
       "    </tr>\n",
       "    <tr>\n",
       "      <th>75%</th>\n",
       "      <td>29.990000</td>\n",
       "      <td>1.000000</td>\n",
       "      <td>0.650000</td>\n",
       "      <td>0.020000</td>\n",
       "    </tr>\n",
       "    <tr>\n",
       "      <th>max</th>\n",
       "      <td>49.990000</td>\n",
       "      <td>1.000000</td>\n",
       "      <td>1.000000</td>\n",
       "      <td>0.020000</td>\n",
       "    </tr>\n",
       "  </tbody>\n",
       "</table>\n",
       "</div>"
      ],
      "text/plain": [
       "       product_price      cotton   polyester     spandex\n",
       "count     603.000000  603.000000  603.000000  603.000000\n",
       "mean       27.208905    0.970945    0.251095    0.010647\n",
       "std         9.318390    0.055168    0.321520    0.007674\n",
       "min         7.990000    0.720000    0.000000    0.000000\n",
       "25%        19.990000    0.980000    0.000000    0.000000\n",
       "50%        27.990000    0.990000    0.000000    0.010000\n",
       "75%        29.990000    1.000000    0.650000    0.020000\n",
       "max        49.990000    1.000000    1.000000    0.020000"
      ]
     },
     "execution_count": 17,
     "metadata": {},
     "output_type": "execute_result"
    }
   ],
   "source": [
    "df01.describe()"
   ]
  },
  {
   "cell_type": "markdown",
   "id": "c5129986",
   "metadata": {},
   "source": [
    "### 1.5.2. Categorical Data"
   ]
  },
  {
   "cell_type": "code",
   "execution_count": 18,
   "id": "41435ff4",
   "metadata": {
    "ExecuteTime": {
     "end_time": "2022-06-16T06:41:22.287725Z",
     "start_time": "2022-06-16T06:41:22.281269Z"
    }
   },
   "outputs": [
    {
     "data": {
      "text/plain": [
       "product_id      187\n",
       "style_id         28\n",
       "color_id         37\n",
       "product_name     20\n",
       "color_name       38\n",
       "fit               5\n",
       "dtype: int64"
      ]
     },
     "execution_count": 18,
     "metadata": {},
     "output_type": "execute_result"
    }
   ],
   "source": [
    "cat_attributes.nunique()"
   ]
  },
  {
   "cell_type": "markdown",
   "id": "158b016c",
   "metadata": {},
   "source": [
    "# 2.0 Data Visualization"
   ]
  },
  {
   "cell_type": "code",
   "execution_count": 19,
   "id": "32161aca",
   "metadata": {
    "ExecuteTime": {
     "end_time": "2022-06-16T06:41:22.297561Z",
     "start_time": "2022-06-16T06:41:22.290354Z"
    }
   },
   "outputs": [],
   "source": [
    "df02 = df01.drop_duplicates()"
   ]
  },
  {
   "cell_type": "markdown",
   "id": "af033439",
   "metadata": {},
   "source": [
    "## 2.1 Product x Price"
   ]
  },
  {
   "cell_type": "code",
   "execution_count": 20,
   "id": "03eaf002",
   "metadata": {
    "ExecuteTime": {
     "end_time": "2022-06-16T06:41:22.684926Z",
     "start_time": "2022-06-16T06:41:22.300377Z"
    },
    "scrolled": false
   },
   "outputs": [
    {
     "data": {
      "image/png": "[encoded data removed]",
      "text/plain": [
       "<Figure size 1800x864 with 1 Axes>"
      ]
     },
     "metadata": {},
     "output_type": "display_data"
    }
   ],
   "source": [
    "aux1 = df02.groupby('product_name')['product_price'].median().reset_index()\n",
    "sns.barplot( x='product_price', y='product_name', data=aux1);"
   ]
  },
  {
   "cell_type": "markdown",
   "id": "c2c52380",
   "metadata": {},
   "source": [
    "## 2.2 Product x Number of products"
   ]
  },
  {
   "cell_type": "code",
   "execution_count": 21,
   "id": "1c71d71f",
   "metadata": {
    "ExecuteTime": {
     "end_time": "2022-06-16T06:41:22.993312Z",
     "start_time": "2022-06-16T06:41:22.691250Z"
    },
    "scrolled": false
   },
   "outputs": [
    {
     "data": {
      "image/png": "[encoded data removed]",
      "text/plain": [
       "<Figure size 1800x864 with 1 Axes>"
      ]
     },
     "metadata": {},
     "output_type": "display_data"
    }
   ],
   "source": [
    "aux2 = df02.groupby('product_name')['product_id'].count().reset_index().sort_values('product_id', ascending=False)\n",
    "sns.barplot(x='product_id', y='product_name', data=aux2);"
   ]
  },
  {
   "cell_type": "markdown",
   "id": "e502ff69",
   "metadata": {},
   "source": [
    "## 2.3 Colors X Numbers"
   ]
  },
  {
   "cell_type": "code",
   "execution_count": 22,
   "id": "bbd01a28",
   "metadata": {
    "ExecuteTime": {
     "end_time": "2022-06-16T06:41:23.228182Z",
     "start_time": "2022-06-16T06:41:22.995422Z"
    },
    "scrolled": false
   },
   "outputs": [
    {
     "data": {
      "text/plain": [
       "<AxesSubplot:xlabel='color_name', ylabel='number'>"
      ]
     },
     "execution_count": 22,
     "metadata": {},
     "output_type": "execute_result"
    },
    {
     "data": {
      "image/png": "[encoded data removed]",
      "text/plain": [
       "<Figure size 1800x864 with 1 Axes>"
      ]
     },
     "metadata": {},
     "output_type": "display_data"
    }
   ],
   "source": [
    "aux4 = pd.DataFrame(df02['color_name'].value_counts()).reset_index()\n",
    "aux5 = aux4.head(11)\n",
    "aux5.columns = ['color_name', 'number']\n",
    "sns.barplot(x='color_name', y='number', data=aux5)"
   ]
  }
 ],
 "metadata": {
  "kernelspec": {
   "display_name": "Python 3 (ipykernel)",
   "language": "python",
   "name": "python3"
  },
  "language_info": {
   "codemirror_mode": {
    "name": "ipython",
    "version": 3
   },
   "file_extension": ".py",
   "mimetype": "text/x-python",
   "name": "python",
   "nbconvert_exporter": "python",
   "pygments_lexer": "ipython3",
   "version": "3.10.0"
  }
 },
 "nbformat": 4,
 "nbformat_minor": 5
}
